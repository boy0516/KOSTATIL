{
  "nbformat": 4,
  "nbformat_minor": 0,
  "metadata": {
    "kernelspec": {
      "display_name": "Python 3",
      "language": "python",
      "name": "python3"
    },
    "language_info": {
      "codemirror_mode": {
        "name": "ipython",
        "version": 3
      },
      "file_extension": ".py",
      "mimetype": "text/x-python",
      "name": "python",
      "nbconvert_exporter": "python",
      "pygments_lexer": "ipython3",
      "version": "3.7.6"
    },
    "toc": {
      "base_numbering": 1,
      "nav_menu": {},
      "number_sections": true,
      "sideBar": true,
      "skip_h1_title": false,
      "title_cell": "Table of Contents",
      "title_sidebar": "Contents",
      "toc_cell": false,
      "toc_position": {
        "height": "calc(100% - 180px)",
        "left": "10px",
        "top": "150px",
        "width": "204.787px"
      },
      "toc_section_display": true,
      "toc_window_display": true
    },
    "varInspector": {
      "cols": {
        "lenName": 16,
        "lenType": 16,
        "lenVar": 40
      },
      "kernels_config": {
        "python": {
          "delete_cmd_postfix": "",
          "delete_cmd_prefix": "del ",
          "library": "var_list.py",
          "varRefreshCmd": "print(var_dic_list())"
        },
        "r": {
          "delete_cmd_postfix": ") ",
          "delete_cmd_prefix": "rm(",
          "library": "var_list.r",
          "varRefreshCmd": "cat(var_dic_list()) "
        }
      },
      "types_to_exclude": [
        "module",
        "function",
        "builtin_function_or_method",
        "instance",
        "_Feature"
      ],
      "window_display": false
    },
    "colab": {
      "name": "5.2 파이썬 EDA-기술통계-input.ipynb",
      "provenance": []
    }
  },
  "cells": [
    {
      "cell_type": "markdown",
      "metadata": {
        "id": "I4vYs3DdGyJ8"
      },
      "source": [
        "## 라이브러리 로드"
      ]
    },
    {
      "cell_type": "code",
      "metadata": {
        "id": "YfXhE6ZzGyJ_"
      },
      "source": [
        "# 데이터 분석을 위한 pandas 라이브러리를 불러옵니다.\n",
        "# 데이터 시각화를 위한 seaborn 을 불러옵니다.\n"
      ],
      "execution_count": null,
      "outputs": []
    },
    {
      "cell_type": "code",
      "metadata": {
        "id": "WwzI4C3VGyKA"
      },
      "source": [
        "print(pd.__version__)\n",
        "print(sns.__version__)"
      ],
      "execution_count": null,
      "outputs": []
    },
    {
      "cell_type": "code",
      "metadata": {
        "id": "9gFw4SDdGyKB"
      },
      "source": [
        "# 0.11.0 버전에서 변화가 많으니 이 버전 이상을 사용해 주세요. \n",
        "# !pip install seaborn --upgrade"
      ],
      "execution_count": null,
      "outputs": []
    },
    {
      "cell_type": "markdown",
      "metadata": {
        "id": "4JqR1wgqGyKB"
      },
      "source": [
        "## 데이터셋 불러오기\n",
        "<img src=\"https://pandas.pydata.org/docs/_images/02_io_readwrite.svg\">\n",
        "\n",
        "* seaborn 데이터셋 위치 : https://github.com/mwaskom/seaborn-data"
      ]
    },
    {
      "cell_type": "code",
      "metadata": {
        "id": "DK8fDU45GyKB"
      },
      "source": [
        "# df\n"
      ],
      "execution_count": null,
      "outputs": []
    },
    {
      "cell_type": "markdown",
      "metadata": {
        "id": "JwqB1Q2UGyKC"
      },
      "source": [
        "## 데이터셋 일부만 가져오기"
      ]
    },
    {
      "cell_type": "code",
      "metadata": {
        "id": "-QnEeZTqGyKC"
      },
      "source": [
        "# head\n"
      ],
      "execution_count": null,
      "outputs": []
    },
    {
      "cell_type": "code",
      "metadata": {
        "id": "qreX3iBxGyKC"
      },
      "source": [
        "# tail\n"
      ],
      "execution_count": null,
      "outputs": []
    },
    {
      "cell_type": "code",
      "metadata": {
        "id": "Pj94KZtUGyKD"
      },
      "source": [
        "# sample\n"
      ],
      "execution_count": null,
      "outputs": []
    },
    {
      "cell_type": "markdown",
      "metadata": {
        "id": "yXDYo-ybGyKD"
      },
      "source": [
        "## 매번 봐야 하는 기술통계값 코드 한 줄로 보기 \n",
        "### Pandas Profiling\n",
        "* [pandas-profiling/pandas-profiling: Create HTML profiling reports from pandas DataFrame objects](https://github.com/pandas-profiling/pandas-profiling)"
      ]
    },
    {
      "cell_type": "code",
      "metadata": {
        "id": "NxXLiA1DGyKE"
      },
      "source": [
        "# 아래 명령어로 설치합니다.\n",
        "# 2.8.0 이상 버전에서 폰트 설정방법이 변경되어 아래 버전을 사용을 추천합니다.\n",
        "# !pip install pandas_profiling==2.8.0"
      ],
      "execution_count": null,
      "outputs": []
    },
    {
      "cell_type": "code",
      "metadata": {
        "id": "AzVM8FnNGyKE"
      },
      "source": [
        "from pandas_profiling import ProfileReport\n",
        "profile = ProfileReport(df, title=\"Pandas Profiling Report\")"
      ],
      "execution_count": null,
      "outputs": []
    },
    {
      "cell_type": "code",
      "metadata": {
        "id": "nck_nPtGGyKE"
      },
      "source": [
        "# 주피터 노트북이 있는 위치에 html파일이 생성됩니다.\n",
        "profile.to_file(\"pandas_profile_report.html\")"
      ],
      "execution_count": null,
      "outputs": []
    },
    {
      "cell_type": "markdown",
      "metadata": {
        "id": "WCx43IR5GyKF"
      },
      "source": [
        "### sweetviz\n",
        "* [sweetviz · PyPI](https://pypi.org/project/sweetviz/)\n",
        "<img src=\"https://warehouse-camo.ingress.cmh1.psfhosted.org/210c4eb7317c8b0d2e7d0784b1a9697c096050ef/687474703a2f2f636f6f6c74696d696e672e636f6d2f53562f4c61796f75742d416e696d332e676966\">"
      ]
    },
    {
      "cell_type": "code",
      "metadata": {
        "id": "SIFwxdnsGyKF"
      },
      "source": [
        "# 아래 명령어로 설치해 주셔야지 사용할 수 있습니다.\n",
        "# !pip install sweetviz"
      ],
      "execution_count": null,
      "outputs": []
    },
    {
      "cell_type": "code",
      "metadata": {
        "id": "FYq-C0b5GyKF"
      },
      "source": [
        "import sweetviz as sv\n",
        "\n",
        "my_report = sv.analyze(df)\n",
        "# 타겟변수 없이 그릴 수도 있고 타겟변수를 지정할 수도 있습니다.\n",
        "# 타겟변수는 범주형이 아닌 수치, bool 값만 가능합니다. \n",
        "# 데이터에 따라 수치형으로 되어있지만 동작하지 않을 수도 있습니다. \n",
        "# my_report = sv.analyze(df, target_feat ='mpg')\n",
        "my_report.show_html()"
      ],
      "execution_count": null,
      "outputs": []
    },
    {
      "cell_type": "code",
      "metadata": {
        "id": "HKn7OiODGyKG"
      },
      "source": [
        ""
      ],
      "execution_count": null,
      "outputs": []
    },
    {
      "cell_type": "code",
      "metadata": {
        "id": "Nb_ETFWTGyKG"
      },
      "source": [
        ""
      ],
      "execution_count": null,
      "outputs": []
    },
    {
      "cell_type": "code",
      "metadata": {
        "id": "GI8X6Kx4GyKG"
      },
      "source": [
        ""
      ],
      "execution_count": null,
      "outputs": []
    },
    {
      "cell_type": "code",
      "metadata": {
        "id": "KHrcvT21GyKG"
      },
      "source": [
        ""
      ],
      "execution_count": null,
      "outputs": []
    }
  ]
}